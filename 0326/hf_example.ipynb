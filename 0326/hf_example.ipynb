{
 "cells": [
  {
   "cell_type": "code",
   "execution_count": 1,
   "id": "05597b72",
   "metadata": {},
   "outputs": [
    {
     "name": "stdout",
     "output_type": "stream",
     "text": [
      "2.6.0\n",
      "1.21.4\n",
      "4.11.3\n",
      "1.14.0\n"
     ]
    }
   ],
   "source": [
    "import tensorflow\n",
    "import numpy\n",
    "import transformers\n",
    "import datasets\n",
    "\n",
    "print(tensorflow.__version__)\n",
    "print(numpy.__version__)\n",
    "print(transformers.__version__)\n",
    "print(datasets.__version__)"
   ]
  },
  {
   "cell_type": "code",
   "execution_count": 2,
   "id": "e27ea3af",
   "metadata": {},
   "outputs": [
    {
     "name": "stderr",
     "output_type": "stream",
     "text": [
      "Using custom data configuration default\n",
      "Reusing dataset nsmc (/aiffel/.cache/huggingface/datasets/nsmc/default/1.1.0/bfd4729bf1a67114e5267e6916b9e4807010aeb238e4a3c2b95fbfa3a014b5f3)\n",
      "Using custom data configuration default\n",
      "Reusing dataset nsmc (/aiffel/.cache/huggingface/datasets/nsmc/default/1.1.0/bfd4729bf1a67114e5267e6916b9e4807010aeb238e4a3c2b95fbfa3a014b5f3)\n",
      "Using custom data configuration default\n",
      "Reusing dataset nsmc (/aiffel/.cache/huggingface/datasets/nsmc/default/1.1.0/bfd4729bf1a67114e5267e6916b9e4807010aeb238e4a3c2b95fbfa3a014b5f3)\n"
     ]
    }
   ],
   "source": [
    "from datasets import load_dataset\n",
    "train_data = load_dataset('nsmc',split='train[:80%]')\n",
    "val_data = load_dataset('nsmc',split='train[-20%:]')\n",
    "test_data = load_dataset('nsmc',split='test')"
   ]
  },
  {
   "cell_type": "code",
   "execution_count": 3,
   "id": "ed4e9989",
   "metadata": {},
   "outputs": [],
   "source": [
    "import re\n",
    "def preprocess_sentence(sentence):\n",
    "    # 입력받은 sentence를 소문자로 변경하고 양쪽 공백을 제거\n",
    "    sentence = sentence.lower().strip()\n",
    "\n",
    "    sentence = re.sub(r\"([?.!,])\", r\" \\1 \", sentence)\n",
    "    sentence = re.sub(r'[\" \"]+', \" \", sentence)\n",
    "\n",
    "    # (a-z, A-Z, \".\", \"?\", \"!\", \",\")를 제외한 모든 문자를 공백인 ' '로 대체합니다.\n",
    "    sentence = re.sub(r\"[^a-zA-Z0-9ㄱ-ㅎㅏ-ㅣ가-힣.,?!]+\", \" \", sentence)\n",
    "    sentence = sentence.strip()\n",
    "    return sentence"
   ]
  },
  {
   "cell_type": "code",
   "execution_count": 4,
   "id": "1368d43b",
   "metadata": {
    "scrolled": false
   },
   "outputs": [
    {
     "name": "stdout",
     "output_type": "stream",
     "text": [
      "0.49924166666666664\n",
      "0.4972666666666667\n",
      "0.50346\n"
     ]
    }
   ],
   "source": [
    "print(sum(train_data['label'])/ len(train_data))\n",
    "print(sum(val_data['label'])/ len(val_data))\n",
    "print(sum(test_data['label'])/ len(test_data))"
   ]
  },
  {
   "cell_type": "code",
   "execution_count": 5,
   "id": "2632f168",
   "metadata": {},
   "outputs": [
    {
     "data": {
      "text/plain": [
       "35.235866666666666"
      ]
     },
     "execution_count": 5,
     "metadata": {},
     "output_type": "execute_result"
    }
   ],
   "source": [
    "l = 0\n",
    "for s in train_data['document']:\n",
    "    l += len(s)\n",
    "l/len(train_data)"
   ]
  },
  {
   "cell_type": "code",
   "execution_count": 6,
   "id": "a83b1230",
   "metadata": {},
   "outputs": [
    {
     "data": {
      "application/vnd.jupyter.widget-view+json": {
       "model_id": "6684436e72f04df9ba9a6184c27db181",
       "version_major": 2,
       "version_minor": 0
      },
      "text/plain": [
       "  0%|          | 0/120000 [00:00<?, ?ex/s]"
      ]
     },
     "metadata": {},
     "output_type": "display_data"
    },
    {
     "data": {
      "application/vnd.jupyter.widget-view+json": {
       "model_id": "5920b68e97174d6c8ba619986a0fec2d",
       "version_major": 2,
       "version_minor": 0
      },
      "text/plain": [
       "  0%|          | 0/30000 [00:00<?, ?ex/s]"
      ]
     },
     "metadata": {},
     "output_type": "display_data"
    },
    {
     "data": {
      "application/vnd.jupyter.widget-view+json": {
       "model_id": "37ef6b21c5934f40ba219fbb0fe25704",
       "version_major": 2,
       "version_minor": 0
      },
      "text/plain": [
       "  0%|          | 0/50000 [00:00<?, ?ex/s]"
      ]
     },
     "metadata": {},
     "output_type": "display_data"
    }
   ],
   "source": [
    "train_data = train_data.map(lambda example: {'document': preprocess_sentence(example['document'])})\n",
    "val_data = val_data.map(lambda example: {'document': preprocess_sentence(example['document'])})\n",
    "test_data = test_data.map(lambda example: {'document': preprocess_sentence(example['document'])})"
   ]
  },
  {
   "cell_type": "markdown",
   "id": "431b46d0",
   "metadata": {},
   "source": [
    "# Tokenizer 불러오기"
   ]
  },
  {
   "cell_type": "code",
   "execution_count": 7,
   "id": "c69f9e32",
   "metadata": {
    "scrolled": true
   },
   "outputs": [
    {
     "name": "stderr",
     "output_type": "stream",
     "text": [
      "Some weights of the model checkpoint at klue/bert-base were not used when initializing BertForSequenceClassification: ['cls.predictions.decoder.bias', 'cls.seq_relationship.bias', 'cls.predictions.transform.LayerNorm.bias', 'cls.predictions.decoder.weight', 'cls.predictions.bias', 'cls.predictions.transform.dense.bias', 'cls.predictions.transform.dense.weight', 'cls.predictions.transform.LayerNorm.weight', 'cls.seq_relationship.weight']\n",
      "- This IS expected if you are initializing BertForSequenceClassification from the checkpoint of a model trained on another task or with another architecture (e.g. initializing a BertForSequenceClassification model from a BertForPreTraining model).\n",
      "- This IS NOT expected if you are initializing BertForSequenceClassification from the checkpoint of a model that you expect to be exactly identical (initializing a BertForSequenceClassification model from a BertForSequenceClassification model).\n",
      "Some weights of BertForSequenceClassification were not initialized from the model checkpoint at klue/bert-base and are newly initialized: ['classifier.weight', 'classifier.bias']\n",
      "You should probably TRAIN this model on a down-stream task to be able to use it for predictions and inference.\n"
     ]
    }
   ],
   "source": [
    "from transformers import BertForSequenceClassification, BertTokenizer\n",
    "HUGGINGFACE_MODEL_PATH = \"klue/bert-base\"\n",
    "model = BertForSequenceClassification.from_pretrained(HUGGINGFACE_MODEL_PATH, num_labels=2)\n",
    "config = model.config\n",
    "tokenizer = BertTokenizer.from_pretrained(HUGGINGFACE_MODEL_PATH)"
   ]
  },
  {
   "cell_type": "code",
   "execution_count": 8,
   "id": "a9b69696",
   "metadata": {},
   "outputs": [],
   "source": [
    "def transform(data):\n",
    "    return tokenizer(\n",
    "        data['document'],\n",
    "        truncation = True,\n",
    "        \n",
    "        padding = True,\n",
    "        return_token_type_ids = False,\n",
    "        max_length=40\n",
    "        )"
   ]
  },
  {
   "cell_type": "code",
   "execution_count": 9,
   "id": "6397b3d0",
   "metadata": {
    "scrolled": true
   },
   "outputs": [
    {
     "data": {
      "application/vnd.jupyter.widget-view+json": {
       "model_id": "e3df0f9637cd4dbc815c4bc74de1310f",
       "version_major": 2,
       "version_minor": 0
      },
      "text/plain": [
       "  0%|          | 0/120 [00:00<?, ?ba/s]"
      ]
     },
     "metadata": {},
     "output_type": "display_data"
    },
    {
     "data": {
      "application/vnd.jupyter.widget-view+json": {
       "model_id": "2681e2b79a624fdbafcdb8b7005fc703",
       "version_major": 2,
       "version_minor": 0
      },
      "text/plain": [
       "  0%|          | 0/30 [00:00<?, ?ba/s]"
      ]
     },
     "metadata": {},
     "output_type": "display_data"
    },
    {
     "data": {
      "application/vnd.jupyter.widget-view+json": {
       "model_id": "df957cae3e384a309f3019fc37796c8b",
       "version_major": 2,
       "version_minor": 0
      },
      "text/plain": [
       "  0%|          | 0/50 [00:00<?, ?ba/s]"
      ]
     },
     "metadata": {},
     "output_type": "display_data"
    }
   ],
   "source": [
    "train =train_data.map(transform, batched=True)\n",
    "val = val_data.map(transform, batched=True)\n",
    "test = test_data.map(transform, batched=True)"
   ]
  },
  {
   "cell_type": "code",
   "execution_count": 10,
   "id": "85912805",
   "metadata": {},
   "outputs": [],
   "source": [
    "import os\n",
    "import numpy as np\n",
    "from transformers import Trainer, TrainingArguments\n",
    "\n",
    "output_dir = os.getenv('HOME')+'/aiffel/0326'\n",
    "\n",
    "training_arguments = TrainingArguments(\n",
    "    output_dir,                                         # output이 저장될 경로\n",
    "    evaluation_strategy=\"epoch\",           #evaluation하는 빈도\n",
    "    learning_rate = 2e-5,                         #learning_rate\n",
    "    per_device_train_batch_size = 8,   # 각 device 당 batch size\n",
    "    per_device_eval_batch_size = 8,    # evaluation 시에 batch size\n",
    "    num_train_epochs = 3,                     # train 시킬 총 epochs\n",
    "    weight_decay = 0.01,\n",
    "    lr_scheduler_type=\"cosine\"# weight decay\n",
    ")"
   ]
  },
  {
   "cell_type": "code",
   "execution_count": 11,
   "id": "78a7acfd",
   "metadata": {},
   "outputs": [],
   "source": [
    "from datasets import load_metric\n",
    "metric = load_metric('accuracy')\n",
    "#metric = load_metric('glue',accuracy')\n",
    "def compute_metrics(eval_pred):    \n",
    "    predictions,labels = eval_pred\n",
    "    predictions = np.argmax(predictions, axis=1)\n",
    "    return metric.compute(predictions=predictions, references = labels)"
   ]
  },
  {
   "cell_type": "code",
   "execution_count": 12,
   "id": "bb140983",
   "metadata": {},
   "outputs": [],
   "source": [
    "# from transformers import AdamW, get_scheduler\n",
    "# num_training_steps = len(train) // training_arguments.per_device_train_batch_size * training_arguments.num_train_epochs\n",
    "# optimizer = AdamW(model.parameters(), lr=training_arguments.learning_rate)\n",
    "# # Initialize the linear learning rate scheduler\n",
    "# lr_scheduler = get_scheduler(\n",
    "#     \"cosine\",\n",
    "#     optimizer = optimizer,\n",
    "#     num_warmup_steps=100,\n",
    "#     num_training_steps=num_training_steps,\n",
    "    \n",
    "# )"
   ]
  },
  {
   "cell_type": "code",
   "execution_count": 13,
   "id": "c4ae15e0",
   "metadata": {},
   "outputs": [
    {
     "name": "stderr",
     "output_type": "stream",
     "text": [
      "The following columns in the training set  don't have a corresponding argument in `BertForSequenceClassification.forward` and have been ignored: document, id.\n",
      "***** Running training *****\n",
      "  Num examples = 120000\n",
      "  Num Epochs = 3\n",
      "  Instantaneous batch size per device = 8\n",
      "  Total train batch size (w. parallel, distributed & accumulation) = 8\n",
      "  Gradient Accumulation steps = 1\n",
      "  Total optimization steps = 45000\n"
     ]
    },
    {
     "data": {
      "text/html": [
       "\n",
       "    <div>\n",
       "      \n",
       "      <progress value='45000' max='45000' style='width:300px; height:20px; vertical-align: middle;'></progress>\n",
       "      [45000/45000 1:22:37, Epoch 3/3]\n",
       "    </div>\n",
       "    <table border=\"1\" class=\"dataframe\">\n",
       "  <thead>\n",
       "    <tr style=\"text-align: left;\">\n",
       "      <th>Epoch</th>\n",
       "      <th>Training Loss</th>\n",
       "      <th>Validation Loss</th>\n",
       "      <th>Accuracy</th>\n",
       "    </tr>\n",
       "  </thead>\n",
       "  <tbody>\n",
       "    <tr>\n",
       "      <td>1</td>\n",
       "      <td>0.299600</td>\n",
       "      <td>0.267911</td>\n",
       "      <td>0.894467</td>\n",
       "    </tr>\n",
       "    <tr>\n",
       "      <td>2</td>\n",
       "      <td>0.244800</td>\n",
       "      <td>0.352164</td>\n",
       "      <td>0.902567</td>\n",
       "    </tr>\n",
       "    <tr>\n",
       "      <td>3</td>\n",
       "      <td>0.144100</td>\n",
       "      <td>0.466885</td>\n",
       "      <td>0.902433</td>\n",
       "    </tr>\n",
       "  </tbody>\n",
       "</table><p>"
      ],
      "text/plain": [
       "<IPython.core.display.HTML object>"
      ]
     },
     "metadata": {},
     "output_type": "display_data"
    },
    {
     "name": "stderr",
     "output_type": "stream",
     "text": [
      "Saving model checkpoint to /aiffel/aiffel/0326/checkpoint-500\n",
      "Configuration saved in /aiffel/aiffel/0326/checkpoint-500/config.json\n",
      "Model weights saved in /aiffel/aiffel/0326/checkpoint-500/pytorch_model.bin\n",
      "Saving model checkpoint to /aiffel/aiffel/0326/checkpoint-1000\n",
      "Configuration saved in /aiffel/aiffel/0326/checkpoint-1000/config.json\n",
      "Model weights saved in /aiffel/aiffel/0326/checkpoint-1000/pytorch_model.bin\n",
      "Saving model checkpoint to /aiffel/aiffel/0326/checkpoint-1500\n",
      "Configuration saved in /aiffel/aiffel/0326/checkpoint-1500/config.json\n",
      "Model weights saved in /aiffel/aiffel/0326/checkpoint-1500/pytorch_model.bin\n",
      "Saving model checkpoint to /aiffel/aiffel/0326/checkpoint-2000\n",
      "Configuration saved in /aiffel/aiffel/0326/checkpoint-2000/config.json\n",
      "Model weights saved in /aiffel/aiffel/0326/checkpoint-2000/pytorch_model.bin\n",
      "Saving model checkpoint to /aiffel/aiffel/0326/checkpoint-2500\n",
      "Configuration saved in /aiffel/aiffel/0326/checkpoint-2500/config.json\n",
      "Model weights saved in /aiffel/aiffel/0326/checkpoint-2500/pytorch_model.bin\n",
      "Saving model checkpoint to /aiffel/aiffel/0326/checkpoint-3000\n",
      "Configuration saved in /aiffel/aiffel/0326/checkpoint-3000/config.json\n",
      "Model weights saved in /aiffel/aiffel/0326/checkpoint-3000/pytorch_model.bin\n",
      "Saving model checkpoint to /aiffel/aiffel/0326/checkpoint-3500\n",
      "Configuration saved in /aiffel/aiffel/0326/checkpoint-3500/config.json\n",
      "Model weights saved in /aiffel/aiffel/0326/checkpoint-3500/pytorch_model.bin\n",
      "Saving model checkpoint to /aiffel/aiffel/0326/checkpoint-4000\n",
      "Configuration saved in /aiffel/aiffel/0326/checkpoint-4000/config.json\n",
      "Model weights saved in /aiffel/aiffel/0326/checkpoint-4000/pytorch_model.bin\n",
      "Saving model checkpoint to /aiffel/aiffel/0326/checkpoint-4500\n",
      "Configuration saved in /aiffel/aiffel/0326/checkpoint-4500/config.json\n",
      "Model weights saved in /aiffel/aiffel/0326/checkpoint-4500/pytorch_model.bin\n",
      "Saving model checkpoint to /aiffel/aiffel/0326/checkpoint-5000\n",
      "Configuration saved in /aiffel/aiffel/0326/checkpoint-5000/config.json\n",
      "Model weights saved in /aiffel/aiffel/0326/checkpoint-5000/pytorch_model.bin\n",
      "Saving model checkpoint to /aiffel/aiffel/0326/checkpoint-5500\n",
      "Configuration saved in /aiffel/aiffel/0326/checkpoint-5500/config.json\n",
      "Model weights saved in /aiffel/aiffel/0326/checkpoint-5500/pytorch_model.bin\n",
      "Saving model checkpoint to /aiffel/aiffel/0326/checkpoint-6000\n",
      "Configuration saved in /aiffel/aiffel/0326/checkpoint-6000/config.json\n",
      "Model weights saved in /aiffel/aiffel/0326/checkpoint-6000/pytorch_model.bin\n",
      "Saving model checkpoint to /aiffel/aiffel/0326/checkpoint-6500\n",
      "Configuration saved in /aiffel/aiffel/0326/checkpoint-6500/config.json\n",
      "Model weights saved in /aiffel/aiffel/0326/checkpoint-6500/pytorch_model.bin\n",
      "Saving model checkpoint to /aiffel/aiffel/0326/checkpoint-7000\n",
      "Configuration saved in /aiffel/aiffel/0326/checkpoint-7000/config.json\n",
      "Model weights saved in /aiffel/aiffel/0326/checkpoint-7000/pytorch_model.bin\n",
      "Saving model checkpoint to /aiffel/aiffel/0326/checkpoint-7500\n",
      "Configuration saved in /aiffel/aiffel/0326/checkpoint-7500/config.json\n",
      "Model weights saved in /aiffel/aiffel/0326/checkpoint-7500/pytorch_model.bin\n",
      "Saving model checkpoint to /aiffel/aiffel/0326/checkpoint-8000\n",
      "Configuration saved in /aiffel/aiffel/0326/checkpoint-8000/config.json\n",
      "Model weights saved in /aiffel/aiffel/0326/checkpoint-8000/pytorch_model.bin\n",
      "Saving model checkpoint to /aiffel/aiffel/0326/checkpoint-8500\n",
      "Configuration saved in /aiffel/aiffel/0326/checkpoint-8500/config.json\n",
      "Model weights saved in /aiffel/aiffel/0326/checkpoint-8500/pytorch_model.bin\n",
      "Saving model checkpoint to /aiffel/aiffel/0326/checkpoint-9000\n",
      "Configuration saved in /aiffel/aiffel/0326/checkpoint-9000/config.json\n",
      "Model weights saved in /aiffel/aiffel/0326/checkpoint-9000/pytorch_model.bin\n",
      "Saving model checkpoint to /aiffel/aiffel/0326/checkpoint-9500\n",
      "Configuration saved in /aiffel/aiffel/0326/checkpoint-9500/config.json\n",
      "Model weights saved in /aiffel/aiffel/0326/checkpoint-9500/pytorch_model.bin\n",
      "Saving model checkpoint to /aiffel/aiffel/0326/checkpoint-10000\n",
      "Configuration saved in /aiffel/aiffel/0326/checkpoint-10000/config.json\n",
      "Model weights saved in /aiffel/aiffel/0326/checkpoint-10000/pytorch_model.bin\n",
      "Saving model checkpoint to /aiffel/aiffel/0326/checkpoint-10500\n",
      "Configuration saved in /aiffel/aiffel/0326/checkpoint-10500/config.json\n",
      "Model weights saved in /aiffel/aiffel/0326/checkpoint-10500/pytorch_model.bin\n",
      "Saving model checkpoint to /aiffel/aiffel/0326/checkpoint-11000\n",
      "Configuration saved in /aiffel/aiffel/0326/checkpoint-11000/config.json\n",
      "Model weights saved in /aiffel/aiffel/0326/checkpoint-11000/pytorch_model.bin\n",
      "Saving model checkpoint to /aiffel/aiffel/0326/checkpoint-11500\n",
      "Configuration saved in /aiffel/aiffel/0326/checkpoint-11500/config.json\n",
      "Model weights saved in /aiffel/aiffel/0326/checkpoint-11500/pytorch_model.bin\n",
      "Saving model checkpoint to /aiffel/aiffel/0326/checkpoint-12000\n",
      "Configuration saved in /aiffel/aiffel/0326/checkpoint-12000/config.json\n",
      "Model weights saved in /aiffel/aiffel/0326/checkpoint-12000/pytorch_model.bin\n",
      "Saving model checkpoint to /aiffel/aiffel/0326/checkpoint-12500\n",
      "Configuration saved in /aiffel/aiffel/0326/checkpoint-12500/config.json\n",
      "Model weights saved in /aiffel/aiffel/0326/checkpoint-12500/pytorch_model.bin\n",
      "Saving model checkpoint to /aiffel/aiffel/0326/checkpoint-13000\n",
      "Configuration saved in /aiffel/aiffel/0326/checkpoint-13000/config.json\n",
      "Model weights saved in /aiffel/aiffel/0326/checkpoint-13000/pytorch_model.bin\n",
      "Saving model checkpoint to /aiffel/aiffel/0326/checkpoint-13500\n",
      "Configuration saved in /aiffel/aiffel/0326/checkpoint-13500/config.json\n",
      "Model weights saved in /aiffel/aiffel/0326/checkpoint-13500/pytorch_model.bin\n",
      "Saving model checkpoint to /aiffel/aiffel/0326/checkpoint-14000\n",
      "Configuration saved in /aiffel/aiffel/0326/checkpoint-14000/config.json\n",
      "Model weights saved in /aiffel/aiffel/0326/checkpoint-14000/pytorch_model.bin\n",
      "Saving model checkpoint to /aiffel/aiffel/0326/checkpoint-14500\n",
      "Configuration saved in /aiffel/aiffel/0326/checkpoint-14500/config.json\n",
      "Model weights saved in /aiffel/aiffel/0326/checkpoint-14500/pytorch_model.bin\n",
      "Saving model checkpoint to /aiffel/aiffel/0326/checkpoint-15000\n",
      "Configuration saved in /aiffel/aiffel/0326/checkpoint-15000/config.json\n",
      "Model weights saved in /aiffel/aiffel/0326/checkpoint-15000/pytorch_model.bin\n",
      "The following columns in the evaluation set  don't have a corresponding argument in `BertForSequenceClassification.forward` and have been ignored: document, id.\n",
      "***** Running Evaluation *****\n",
      "  Num examples = 30000\n",
      "  Batch size = 8\n",
      "Saving model checkpoint to /aiffel/aiffel/0326/checkpoint-15500\n",
      "Configuration saved in /aiffel/aiffel/0326/checkpoint-15500/config.json\n",
      "Model weights saved in /aiffel/aiffel/0326/checkpoint-15500/pytorch_model.bin\n",
      "Saving model checkpoint to /aiffel/aiffel/0326/checkpoint-16000\n",
      "Configuration saved in /aiffel/aiffel/0326/checkpoint-16000/config.json\n",
      "Model weights saved in /aiffel/aiffel/0326/checkpoint-16000/pytorch_model.bin\n",
      "Saving model checkpoint to /aiffel/aiffel/0326/checkpoint-16500\n",
      "Configuration saved in /aiffel/aiffel/0326/checkpoint-16500/config.json\n",
      "Model weights saved in /aiffel/aiffel/0326/checkpoint-16500/pytorch_model.bin\n",
      "Saving model checkpoint to /aiffel/aiffel/0326/checkpoint-17000\n",
      "Configuration saved in /aiffel/aiffel/0326/checkpoint-17000/config.json\n",
      "Model weights saved in /aiffel/aiffel/0326/checkpoint-17000/pytorch_model.bin\n",
      "Saving model checkpoint to /aiffel/aiffel/0326/checkpoint-17500\n",
      "Configuration saved in /aiffel/aiffel/0326/checkpoint-17500/config.json\n",
      "Model weights saved in /aiffel/aiffel/0326/checkpoint-17500/pytorch_model.bin\n",
      "Saving model checkpoint to /aiffel/aiffel/0326/checkpoint-18000\n",
      "Configuration saved in /aiffel/aiffel/0326/checkpoint-18000/config.json\n",
      "Model weights saved in /aiffel/aiffel/0326/checkpoint-18000/pytorch_model.bin\n",
      "Saving model checkpoint to /aiffel/aiffel/0326/checkpoint-18500\n",
      "Configuration saved in /aiffel/aiffel/0326/checkpoint-18500/config.json\n",
      "Model weights saved in /aiffel/aiffel/0326/checkpoint-18500/pytorch_model.bin\n",
      "Saving model checkpoint to /aiffel/aiffel/0326/checkpoint-19000\n",
      "Configuration saved in /aiffel/aiffel/0326/checkpoint-19000/config.json\n",
      "Model weights saved in /aiffel/aiffel/0326/checkpoint-19000/pytorch_model.bin\n",
      "Saving model checkpoint to /aiffel/aiffel/0326/checkpoint-19500\n",
      "Configuration saved in /aiffel/aiffel/0326/checkpoint-19500/config.json\n",
      "Model weights saved in /aiffel/aiffel/0326/checkpoint-19500/pytorch_model.bin\n",
      "Saving model checkpoint to /aiffel/aiffel/0326/checkpoint-20000\n",
      "Configuration saved in /aiffel/aiffel/0326/checkpoint-20000/config.json\n",
      "Model weights saved in /aiffel/aiffel/0326/checkpoint-20000/pytorch_model.bin\n",
      "Saving model checkpoint to /aiffel/aiffel/0326/checkpoint-20500\n",
      "Configuration saved in /aiffel/aiffel/0326/checkpoint-20500/config.json\n",
      "Model weights saved in /aiffel/aiffel/0326/checkpoint-20500/pytorch_model.bin\n",
      "Saving model checkpoint to /aiffel/aiffel/0326/checkpoint-21000\n",
      "Configuration saved in /aiffel/aiffel/0326/checkpoint-21000/config.json\n",
      "Model weights saved in /aiffel/aiffel/0326/checkpoint-21000/pytorch_model.bin\n",
      "Saving model checkpoint to /aiffel/aiffel/0326/checkpoint-21500\n",
      "Configuration saved in /aiffel/aiffel/0326/checkpoint-21500/config.json\n",
      "Model weights saved in /aiffel/aiffel/0326/checkpoint-21500/pytorch_model.bin\n",
      "Saving model checkpoint to /aiffel/aiffel/0326/checkpoint-22000\n",
      "Configuration saved in /aiffel/aiffel/0326/checkpoint-22000/config.json\n",
      "Model weights saved in /aiffel/aiffel/0326/checkpoint-22000/pytorch_model.bin\n",
      "Saving model checkpoint to /aiffel/aiffel/0326/checkpoint-22500\n",
      "Configuration saved in /aiffel/aiffel/0326/checkpoint-22500/config.json\n",
      "Model weights saved in /aiffel/aiffel/0326/checkpoint-22500/pytorch_model.bin\n",
      "Saving model checkpoint to /aiffel/aiffel/0326/checkpoint-23000\n",
      "Configuration saved in /aiffel/aiffel/0326/checkpoint-23000/config.json\n",
      "Model weights saved in /aiffel/aiffel/0326/checkpoint-23000/pytorch_model.bin\n",
      "Saving model checkpoint to /aiffel/aiffel/0326/checkpoint-23500\n",
      "Configuration saved in /aiffel/aiffel/0326/checkpoint-23500/config.json\n",
      "Model weights saved in /aiffel/aiffel/0326/checkpoint-23500/pytorch_model.bin\n",
      "Saving model checkpoint to /aiffel/aiffel/0326/checkpoint-24000\n",
      "Configuration saved in /aiffel/aiffel/0326/checkpoint-24000/config.json\n",
      "Model weights saved in /aiffel/aiffel/0326/checkpoint-24000/pytorch_model.bin\n",
      "Saving model checkpoint to /aiffel/aiffel/0326/checkpoint-24500\n",
      "Configuration saved in /aiffel/aiffel/0326/checkpoint-24500/config.json\n",
      "Model weights saved in /aiffel/aiffel/0326/checkpoint-24500/pytorch_model.bin\n",
      "Saving model checkpoint to /aiffel/aiffel/0326/checkpoint-25000\n",
      "Configuration saved in /aiffel/aiffel/0326/checkpoint-25000/config.json\n",
      "Model weights saved in /aiffel/aiffel/0326/checkpoint-25000/pytorch_model.bin\n",
      "Saving model checkpoint to /aiffel/aiffel/0326/checkpoint-25500\n",
      "Configuration saved in /aiffel/aiffel/0326/checkpoint-25500/config.json\n",
      "Model weights saved in /aiffel/aiffel/0326/checkpoint-25500/pytorch_model.bin\n",
      "Saving model checkpoint to /aiffel/aiffel/0326/checkpoint-26000\n",
      "Configuration saved in /aiffel/aiffel/0326/checkpoint-26000/config.json\n",
      "Model weights saved in /aiffel/aiffel/0326/checkpoint-26000/pytorch_model.bin\n",
      "Saving model checkpoint to /aiffel/aiffel/0326/checkpoint-26500\n",
      "Configuration saved in /aiffel/aiffel/0326/checkpoint-26500/config.json\n",
      "Model weights saved in /aiffel/aiffel/0326/checkpoint-26500/pytorch_model.bin\n",
      "Saving model checkpoint to /aiffel/aiffel/0326/checkpoint-27000\n",
      "Configuration saved in /aiffel/aiffel/0326/checkpoint-27000/config.json\n",
      "Model weights saved in /aiffel/aiffel/0326/checkpoint-27000/pytorch_model.bin\n",
      "Saving model checkpoint to /aiffel/aiffel/0326/checkpoint-27500\n",
      "Configuration saved in /aiffel/aiffel/0326/checkpoint-27500/config.json\n",
      "Model weights saved in /aiffel/aiffel/0326/checkpoint-27500/pytorch_model.bin\n",
      "Saving model checkpoint to /aiffel/aiffel/0326/checkpoint-28000\n",
      "Configuration saved in /aiffel/aiffel/0326/checkpoint-28000/config.json\n",
      "Model weights saved in /aiffel/aiffel/0326/checkpoint-28000/pytorch_model.bin\n",
      "Saving model checkpoint to /aiffel/aiffel/0326/checkpoint-28500\n",
      "Configuration saved in /aiffel/aiffel/0326/checkpoint-28500/config.json\n",
      "Model weights saved in /aiffel/aiffel/0326/checkpoint-28500/pytorch_model.bin\n",
      "Saving model checkpoint to /aiffel/aiffel/0326/checkpoint-29000\n",
      "Configuration saved in /aiffel/aiffel/0326/checkpoint-29000/config.json\n",
      "Model weights saved in /aiffel/aiffel/0326/checkpoint-29000/pytorch_model.bin\n",
      "Saving model checkpoint to /aiffel/aiffel/0326/checkpoint-29500\n",
      "Configuration saved in /aiffel/aiffel/0326/checkpoint-29500/config.json\n",
      "Model weights saved in /aiffel/aiffel/0326/checkpoint-29500/pytorch_model.bin\n",
      "Saving model checkpoint to /aiffel/aiffel/0326/checkpoint-30000\n",
      "Configuration saved in /aiffel/aiffel/0326/checkpoint-30000/config.json\n",
      "Model weights saved in /aiffel/aiffel/0326/checkpoint-30000/pytorch_model.bin\n",
      "The following columns in the evaluation set  don't have a corresponding argument in `BertForSequenceClassification.forward` and have been ignored: document, id.\n",
      "***** Running Evaluation *****\n",
      "  Num examples = 30000\n",
      "  Batch size = 8\n",
      "Saving model checkpoint to /aiffel/aiffel/0326/checkpoint-30500\n",
      "Configuration saved in /aiffel/aiffel/0326/checkpoint-30500/config.json\n",
      "Model weights saved in /aiffel/aiffel/0326/checkpoint-30500/pytorch_model.bin\n",
      "Saving model checkpoint to /aiffel/aiffel/0326/checkpoint-31000\n",
      "Configuration saved in /aiffel/aiffel/0326/checkpoint-31000/config.json\n",
      "Model weights saved in /aiffel/aiffel/0326/checkpoint-31000/pytorch_model.bin\n",
      "Saving model checkpoint to /aiffel/aiffel/0326/checkpoint-31500\n",
      "Configuration saved in /aiffel/aiffel/0326/checkpoint-31500/config.json\n",
      "Model weights saved in /aiffel/aiffel/0326/checkpoint-31500/pytorch_model.bin\n",
      "Saving model checkpoint to /aiffel/aiffel/0326/checkpoint-32000\n",
      "Configuration saved in /aiffel/aiffel/0326/checkpoint-32000/config.json\n",
      "Model weights saved in /aiffel/aiffel/0326/checkpoint-32000/pytorch_model.bin\n",
      "Saving model checkpoint to /aiffel/aiffel/0326/checkpoint-32500\n",
      "Configuration saved in /aiffel/aiffel/0326/checkpoint-32500/config.json\n",
      "Model weights saved in /aiffel/aiffel/0326/checkpoint-32500/pytorch_model.bin\n",
      "Saving model checkpoint to /aiffel/aiffel/0326/checkpoint-33000\n",
      "Configuration saved in /aiffel/aiffel/0326/checkpoint-33000/config.json\n",
      "Model weights saved in /aiffel/aiffel/0326/checkpoint-33000/pytorch_model.bin\n",
      "Saving model checkpoint to /aiffel/aiffel/0326/checkpoint-33500\n",
      "Configuration saved in /aiffel/aiffel/0326/checkpoint-33500/config.json\n",
      "Model weights saved in /aiffel/aiffel/0326/checkpoint-33500/pytorch_model.bin\n",
      "Saving model checkpoint to /aiffel/aiffel/0326/checkpoint-34000\n",
      "Configuration saved in /aiffel/aiffel/0326/checkpoint-34000/config.json\n",
      "Model weights saved in /aiffel/aiffel/0326/checkpoint-34000/pytorch_model.bin\n",
      "Saving model checkpoint to /aiffel/aiffel/0326/checkpoint-34500\n",
      "Configuration saved in /aiffel/aiffel/0326/checkpoint-34500/config.json\n",
      "Model weights saved in /aiffel/aiffel/0326/checkpoint-34500/pytorch_model.bin\n",
      "Saving model checkpoint to /aiffel/aiffel/0326/checkpoint-35000\n",
      "Configuration saved in /aiffel/aiffel/0326/checkpoint-35000/config.json\n",
      "Model weights saved in /aiffel/aiffel/0326/checkpoint-35000/pytorch_model.bin\n",
      "Saving model checkpoint to /aiffel/aiffel/0326/checkpoint-35500\n",
      "Configuration saved in /aiffel/aiffel/0326/checkpoint-35500/config.json\n",
      "Model weights saved in /aiffel/aiffel/0326/checkpoint-35500/pytorch_model.bin\n",
      "Saving model checkpoint to /aiffel/aiffel/0326/checkpoint-36000\n",
      "Configuration saved in /aiffel/aiffel/0326/checkpoint-36000/config.json\n",
      "Model weights saved in /aiffel/aiffel/0326/checkpoint-36000/pytorch_model.bin\n",
      "Saving model checkpoint to /aiffel/aiffel/0326/checkpoint-36500\n",
      "Configuration saved in /aiffel/aiffel/0326/checkpoint-36500/config.json\n",
      "Model weights saved in /aiffel/aiffel/0326/checkpoint-36500/pytorch_model.bin\n",
      "Saving model checkpoint to /aiffel/aiffel/0326/checkpoint-37000\n",
      "Configuration saved in /aiffel/aiffel/0326/checkpoint-37000/config.json\n",
      "Model weights saved in /aiffel/aiffel/0326/checkpoint-37000/pytorch_model.bin\n",
      "Saving model checkpoint to /aiffel/aiffel/0326/checkpoint-37500\n",
      "Configuration saved in /aiffel/aiffel/0326/checkpoint-37500/config.json\n",
      "Model weights saved in /aiffel/aiffel/0326/checkpoint-37500/pytorch_model.bin\n",
      "Saving model checkpoint to /aiffel/aiffel/0326/checkpoint-38000\n",
      "Configuration saved in /aiffel/aiffel/0326/checkpoint-38000/config.json\n",
      "Model weights saved in /aiffel/aiffel/0326/checkpoint-38000/pytorch_model.bin\n",
      "Saving model checkpoint to /aiffel/aiffel/0326/checkpoint-38500\n",
      "Configuration saved in /aiffel/aiffel/0326/checkpoint-38500/config.json\n",
      "Model weights saved in /aiffel/aiffel/0326/checkpoint-38500/pytorch_model.bin\n",
      "Saving model checkpoint to /aiffel/aiffel/0326/checkpoint-39000\n",
      "Configuration saved in /aiffel/aiffel/0326/checkpoint-39000/config.json\n",
      "Model weights saved in /aiffel/aiffel/0326/checkpoint-39000/pytorch_model.bin\n",
      "Saving model checkpoint to /aiffel/aiffel/0326/checkpoint-39500\n",
      "Configuration saved in /aiffel/aiffel/0326/checkpoint-39500/config.json\n",
      "Model weights saved in /aiffel/aiffel/0326/checkpoint-39500/pytorch_model.bin\n",
      "Saving model checkpoint to /aiffel/aiffel/0326/checkpoint-40000\n",
      "Configuration saved in /aiffel/aiffel/0326/checkpoint-40000/config.json\n",
      "Model weights saved in /aiffel/aiffel/0326/checkpoint-40000/pytorch_model.bin\n",
      "Saving model checkpoint to /aiffel/aiffel/0326/checkpoint-40500\n",
      "Configuration saved in /aiffel/aiffel/0326/checkpoint-40500/config.json\n",
      "Model weights saved in /aiffel/aiffel/0326/checkpoint-40500/pytorch_model.bin\n",
      "Saving model checkpoint to /aiffel/aiffel/0326/checkpoint-41000\n",
      "Configuration saved in /aiffel/aiffel/0326/checkpoint-41000/config.json\n",
      "Model weights saved in /aiffel/aiffel/0326/checkpoint-41000/pytorch_model.bin\n",
      "Saving model checkpoint to /aiffel/aiffel/0326/checkpoint-41500\n",
      "Configuration saved in /aiffel/aiffel/0326/checkpoint-41500/config.json\n",
      "Model weights saved in /aiffel/aiffel/0326/checkpoint-41500/pytorch_model.bin\n",
      "Saving model checkpoint to /aiffel/aiffel/0326/checkpoint-42000\n",
      "Configuration saved in /aiffel/aiffel/0326/checkpoint-42000/config.json\n",
      "Model weights saved in /aiffel/aiffel/0326/checkpoint-42000/pytorch_model.bin\n",
      "Saving model checkpoint to /aiffel/aiffel/0326/checkpoint-42500\n",
      "Configuration saved in /aiffel/aiffel/0326/checkpoint-42500/config.json\n",
      "Model weights saved in /aiffel/aiffel/0326/checkpoint-42500/pytorch_model.bin\n",
      "Saving model checkpoint to /aiffel/aiffel/0326/checkpoint-43000\n",
      "Configuration saved in /aiffel/aiffel/0326/checkpoint-43000/config.json\n",
      "Model weights saved in /aiffel/aiffel/0326/checkpoint-43000/pytorch_model.bin\n",
      "Saving model checkpoint to /aiffel/aiffel/0326/checkpoint-43500\n",
      "Configuration saved in /aiffel/aiffel/0326/checkpoint-43500/config.json\n",
      "Model weights saved in /aiffel/aiffel/0326/checkpoint-43500/pytorch_model.bin\n",
      "Saving model checkpoint to /aiffel/aiffel/0326/checkpoint-44000\n",
      "Configuration saved in /aiffel/aiffel/0326/checkpoint-44000/config.json\n",
      "Model weights saved in /aiffel/aiffel/0326/checkpoint-44000/pytorch_model.bin\n",
      "Saving model checkpoint to /aiffel/aiffel/0326/checkpoint-44500\n",
      "Configuration saved in /aiffel/aiffel/0326/checkpoint-44500/config.json\n",
      "Model weights saved in /aiffel/aiffel/0326/checkpoint-44500/pytorch_model.bin\n",
      "Saving model checkpoint to /aiffel/aiffel/0326/checkpoint-45000\n",
      "Configuration saved in /aiffel/aiffel/0326/checkpoint-45000/config.json\n",
      "Model weights saved in /aiffel/aiffel/0326/checkpoint-45000/pytorch_model.bin\n",
      "The following columns in the evaluation set  don't have a corresponding argument in `BertForSequenceClassification.forward` and have been ignored: document, id.\n",
      "***** Running Evaluation *****\n",
      "  Num examples = 30000\n",
      "  Batch size = 8\n",
      "\n",
      "\n",
      "Training completed. Do not forget to share your model on huggingface.co/models =)\n",
      "\n",
      "\n"
     ]
    },
    {
     "data": {
      "text/plain": [
       "TrainOutput(global_step=45000, training_loss=0.245214357164171, metrics={'train_runtime': 4957.6095, 'train_samples_per_second': 72.616, 'train_steps_per_second': 9.077, 'total_flos': 7399998432000000.0, 'train_loss': 0.245214357164171, 'epoch': 3.0})"
      ]
     },
     "execution_count": 13,
     "metadata": {},
     "output_type": "execute_result"
    }
   ],
   "source": [
    "trainer = Trainer(\n",
    "    model= model,           # 학습시킬 model\n",
    "    args=training_arguments,           # TrainingArguments을 통해 설정한 arguments\n",
    "    train_dataset=train,    # training dataset\n",
    "    eval_dataset=val,       # evaluation dataset\n",
    "    compute_metrics=compute_metrics,\n",
    "    #lr_scheduler=lr_scheduler,\n",
    ")\n",
    "trainer.train()"
   ]
  },
  {
   "cell_type": "markdown",
   "id": "1e8af404",
   "metadata": {},
   "source": [
    "group_by_length (bool, optional, defaults to False\n",
    "\n",
    "— Whether or not to group together samples of roughly the same length in the training dataset (to minimize padding applied and be more efficient). Only useful if applying dynamic padding.\n",
    "\n",
    "The main idea behind the 2 optimizations is to avoid as much unused computation as possible:\n",
    "\n",
    "Dynamic padding: limit the number of added pad tokens to reach the length of the longest sequence of each mini batch instead of a fixed value set for the whole train set. Because the number of added tokens changes across mini batches, we call it “dynamic” padding ;\n",
    "\n",
    "Uniform length batching: we push the logic further by generating batches made of similar length sequences, so we avoid extreme cases where most sequences in the mini batch are short and we are required to add lots of pad tokens to each of them because 1 sequence of the same mini batch is very long."
   ]
  },
  {
   "cell_type": "code",
   "execution_count": 14,
   "id": "e5c74f3a",
   "metadata": {},
   "outputs": [
    {
     "name": "stderr",
     "output_type": "stream",
     "text": [
      "The following columns in the evaluation set  don't have a corresponding argument in `BertForSequenceClassification.forward` and have been ignored: document, id.\n",
      "***** Running Evaluation *****\n",
      "  Num examples = 50000\n",
      "  Batch size = 8\n"
     ]
    },
    {
     "data": {
      "text/html": [
       "\n",
       "    <div>\n",
       "      \n",
       "      <progress value='6250' max='6250' style='width:300px; height:20px; vertical-align: middle;'></progress>\n",
       "      [6250/6250 02:07]\n",
       "    </div>\n",
       "    "
      ],
      "text/plain": [
       "<IPython.core.display.HTML object>"
      ]
     },
     "metadata": {},
     "output_type": "display_data"
    },
    {
     "data": {
      "text/plain": [
       "{'eval_loss': 0.47963955998420715,\n",
       " 'eval_accuracy': 0.90042,\n",
       " 'eval_runtime': 127.5258,\n",
       " 'eval_samples_per_second': 392.077,\n",
       " 'eval_steps_per_second': 49.01,\n",
       " 'epoch': 3.0}"
      ]
     },
     "execution_count": 14,
     "metadata": {},
     "output_type": "execute_result"
    }
   ],
   "source": [
    "trainer.evaluate(test)"
   ]
  },
  {
   "cell_type": "markdown",
   "id": "5ac9e510",
   "metadata": {},
   "source": [
    "# Bucketing 적용"
   ]
  },
  {
   "cell_type": "code",
   "execution_count": 15,
   "id": "a85e97fd",
   "metadata": {
    "scrolled": true
   },
   "outputs": [
    {
     "name": "stderr",
     "output_type": "stream",
     "text": [
      "loading configuration file https://huggingface.co/klue/bert-base/resolve/main/config.json from cache at /aiffel/.cache/huggingface/transformers/fbd0b2ef898c4653902683fea8cc0dd99bf43f0e082645b913cda3b92429d1bb.99b3298ed554f2ad731c27cdb11a6215f39b90bc845ff5ce709bb4e74ba45621\n",
      "Model config BertConfig {\n",
      "  \"architectures\": [\n",
      "    \"BertForMaskedLM\"\n",
      "  ],\n",
      "  \"attention_probs_dropout_prob\": 0.1,\n",
      "  \"classifier_dropout\": null,\n",
      "  \"hidden_act\": \"gelu\",\n",
      "  \"hidden_dropout_prob\": 0.1,\n",
      "  \"hidden_size\": 768,\n",
      "  \"initializer_range\": 0.02,\n",
      "  \"intermediate_size\": 3072,\n",
      "  \"layer_norm_eps\": 1e-12,\n",
      "  \"max_position_embeddings\": 512,\n",
      "  \"model_type\": \"bert\",\n",
      "  \"num_attention_heads\": 12,\n",
      "  \"num_hidden_layers\": 12,\n",
      "  \"pad_token_id\": 0,\n",
      "  \"position_embedding_type\": \"absolute\",\n",
      "  \"transformers_version\": \"4.11.3\",\n",
      "  \"type_vocab_size\": 2,\n",
      "  \"use_cache\": true,\n",
      "  \"vocab_size\": 32000\n",
      "}\n",
      "\n",
      "loading weights file https://huggingface.co/klue/bert-base/resolve/main/pytorch_model.bin from cache at /aiffel/.cache/huggingface/transformers/05b36ee62545d769939a7746eca739b844a40a7a7553700f110b58b28ed6a949.7cb231256a5dbe886e12b902d05cb1241f330d8c19428508f91b2b28c1cfe0b6\n",
      "Some weights of the model checkpoint at klue/bert-base were not used when initializing BertForSequenceClassification: ['cls.predictions.decoder.bias', 'cls.seq_relationship.bias', 'cls.predictions.transform.LayerNorm.bias', 'cls.predictions.decoder.weight', 'cls.predictions.bias', 'cls.predictions.transform.dense.bias', 'cls.predictions.transform.dense.weight', 'cls.predictions.transform.LayerNorm.weight', 'cls.seq_relationship.weight']\n",
      "- This IS expected if you are initializing BertForSequenceClassification from the checkpoint of a model trained on another task or with another architecture (e.g. initializing a BertForSequenceClassification model from a BertForPreTraining model).\n",
      "- This IS NOT expected if you are initializing BertForSequenceClassification from the checkpoint of a model that you expect to be exactly identical (initializing a BertForSequenceClassification model from a BertForSequenceClassification model).\n",
      "Some weights of BertForSequenceClassification were not initialized from the model checkpoint at klue/bert-base and are newly initialized: ['classifier.weight', 'classifier.bias']\n",
      "You should probably TRAIN this model on a down-stream task to be able to use it for predictions and inference.\n",
      "loading file https://huggingface.co/klue/bert-base/resolve/main/vocab.txt from cache at /aiffel/.cache/huggingface/transformers/1a36e69d48a008e522b75e43693002ffc8b6e6df72de7c53412c23466ec165eb.085110015ec67fc02ad067f712a7c83aafefaf31586a3361dd800bcac635b456\n",
      "loading file https://huggingface.co/klue/bert-base/resolve/main/added_tokens.json from cache at None\n",
      "loading file https://huggingface.co/klue/bert-base/resolve/main/special_tokens_map.json from cache at /aiffel/.cache/huggingface/transformers/aeaaa3afd086a040be912f92ffe7b5f85008b744624f4517c4216bcc32b51cf0.054ece8d16bd524c8a00f0e8a976c00d5de22a755ffb79e353ee2954d9289e26\n",
      "loading file https://huggingface.co/klue/bert-base/resolve/main/tokenizer_config.json from cache at /aiffel/.cache/huggingface/transformers/f8f71eb411bb03f57b455cfb1b4e04ae124201312e67a3ad66e0a92d0c228325.78871951edcb66032caa0a9628d77b3557c23616c653dacdb7a1a8f33011a843\n",
      "loading file https://huggingface.co/klue/bert-base/resolve/main/tokenizer.json from cache at /aiffel/.cache/huggingface/transformers/310a974e892b181d75eed58b545cc0592d066ae4ef35cc760ea92e9b0bf65b3b.74f7933572f937b11a02b2cfb4e88a024059be36c84f53241b85b1fec49e21f7\n",
      "loading configuration file https://huggingface.co/klue/bert-base/resolve/main/config.json from cache at /aiffel/.cache/huggingface/transformers/fbd0b2ef898c4653902683fea8cc0dd99bf43f0e082645b913cda3b92429d1bb.99b3298ed554f2ad731c27cdb11a6215f39b90bc845ff5ce709bb4e74ba45621\n",
      "Model config BertConfig {\n",
      "  \"architectures\": [\n",
      "    \"BertForMaskedLM\"\n",
      "  ],\n",
      "  \"attention_probs_dropout_prob\": 0.1,\n",
      "  \"classifier_dropout\": null,\n",
      "  \"hidden_act\": \"gelu\",\n",
      "  \"hidden_dropout_prob\": 0.1,\n",
      "  \"hidden_size\": 768,\n",
      "  \"initializer_range\": 0.02,\n",
      "  \"intermediate_size\": 3072,\n",
      "  \"layer_norm_eps\": 1e-12,\n",
      "  \"max_position_embeddings\": 512,\n",
      "  \"model_type\": \"bert\",\n",
      "  \"num_attention_heads\": 12,\n",
      "  \"num_hidden_layers\": 12,\n",
      "  \"pad_token_id\": 0,\n",
      "  \"position_embedding_type\": \"absolute\",\n",
      "  \"transformers_version\": \"4.11.3\",\n",
      "  \"type_vocab_size\": 2,\n",
      "  \"use_cache\": true,\n",
      "  \"vocab_size\": 32000\n",
      "}\n",
      "\n"
     ]
    }
   ],
   "source": [
    "from transformers import BertForSequenceClassification, BertTokenizer\n",
    "HUGGINGFACE_MODEL_PATH = \"klue/bert-base\"\n",
    "model = BertForSequenceClassification.from_pretrained(HUGGINGFACE_MODEL_PATH, num_labels=2)\n",
    "config = model.config\n",
    "tokenizer = BertTokenizer.from_pretrained(HUGGINGFACE_MODEL_PATH)"
   ]
  },
  {
   "cell_type": "code",
   "execution_count": 16,
   "id": "b98c04e9",
   "metadata": {},
   "outputs": [
    {
     "name": "stderr",
     "output_type": "stream",
     "text": [
      "PyTorch: setting up devices\n",
      "The default value for the training argument `--report_to` will change in v5 (from all installed integrations to none). In v5, you will need to use `--report_to all` to get the same behavior as now. You should start updating your code and make this info disappear :-).\n",
      "The following columns in the training set  don't have a corresponding argument in `BertForSequenceClassification.forward` and have been ignored: document, id.\n",
      "***** Running training *****\n",
      "  Num examples = 120000\n",
      "  Num Epochs = 3\n",
      "  Instantaneous batch size per device = 8\n",
      "  Total train batch size (w. parallel, distributed & accumulation) = 8\n",
      "  Gradient Accumulation steps = 1\n",
      "  Total optimization steps = 45000\n"
     ]
    },
    {
     "data": {
      "text/html": [
       "\n",
       "    <div>\n",
       "      \n",
       "      <progress value='45000' max='45000' style='width:300px; height:20px; vertical-align: middle;'></progress>\n",
       "      [45000/45000 1:41:40, Epoch 3/3]\n",
       "    </div>\n",
       "    <table border=\"1\" class=\"dataframe\">\n",
       "  <thead>\n",
       "    <tr style=\"text-align: left;\">\n",
       "      <th>Epoch</th>\n",
       "      <th>Training Loss</th>\n",
       "      <th>Validation Loss</th>\n",
       "      <th>Accuracy</th>\n",
       "    </tr>\n",
       "  </thead>\n",
       "  <tbody>\n",
       "    <tr>\n",
       "      <td>1</td>\n",
       "      <td>0.301600</td>\n",
       "      <td>0.284755</td>\n",
       "      <td>0.894300</td>\n",
       "    </tr>\n",
       "    <tr>\n",
       "      <td>2</td>\n",
       "      <td>0.242300</td>\n",
       "      <td>0.360110</td>\n",
       "      <td>0.902100</td>\n",
       "    </tr>\n",
       "    <tr>\n",
       "      <td>3</td>\n",
       "      <td>0.155700</td>\n",
       "      <td>0.467065</td>\n",
       "      <td>0.901267</td>\n",
       "    </tr>\n",
       "  </tbody>\n",
       "</table><p>"
      ],
      "text/plain": [
       "<IPython.core.display.HTML object>"
      ]
     },
     "metadata": {},
     "output_type": "display_data"
    },
    {
     "name": "stderr",
     "output_type": "stream",
     "text": [
      "Saving model checkpoint to /aiffel/aiffel/0326/checkpoint-500\n",
      "Configuration saved in /aiffel/aiffel/0326/checkpoint-500/config.json\n",
      "Model weights saved in /aiffel/aiffel/0326/checkpoint-500/pytorch_model.bin\n",
      "Saving model checkpoint to /aiffel/aiffel/0326/checkpoint-1000\n",
      "Configuration saved in /aiffel/aiffel/0326/checkpoint-1000/config.json\n",
      "Model weights saved in /aiffel/aiffel/0326/checkpoint-1000/pytorch_model.bin\n",
      "Saving model checkpoint to /aiffel/aiffel/0326/checkpoint-1500\n",
      "Configuration saved in /aiffel/aiffel/0326/checkpoint-1500/config.json\n",
      "Model weights saved in /aiffel/aiffel/0326/checkpoint-1500/pytorch_model.bin\n",
      "Saving model checkpoint to /aiffel/aiffel/0326/checkpoint-2000\n",
      "Configuration saved in /aiffel/aiffel/0326/checkpoint-2000/config.json\n",
      "Model weights saved in /aiffel/aiffel/0326/checkpoint-2000/pytorch_model.bin\n",
      "Saving model checkpoint to /aiffel/aiffel/0326/checkpoint-2500\n",
      "Configuration saved in /aiffel/aiffel/0326/checkpoint-2500/config.json\n",
      "Model weights saved in /aiffel/aiffel/0326/checkpoint-2500/pytorch_model.bin\n",
      "Saving model checkpoint to /aiffel/aiffel/0326/checkpoint-3000\n",
      "Configuration saved in /aiffel/aiffel/0326/checkpoint-3000/config.json\n",
      "Model weights saved in /aiffel/aiffel/0326/checkpoint-3000/pytorch_model.bin\n",
      "Saving model checkpoint to /aiffel/aiffel/0326/checkpoint-3500\n",
      "Configuration saved in /aiffel/aiffel/0326/checkpoint-3500/config.json\n",
      "Model weights saved in /aiffel/aiffel/0326/checkpoint-3500/pytorch_model.bin\n",
      "Saving model checkpoint to /aiffel/aiffel/0326/checkpoint-4000\n",
      "Configuration saved in /aiffel/aiffel/0326/checkpoint-4000/config.json\n",
      "Model weights saved in /aiffel/aiffel/0326/checkpoint-4000/pytorch_model.bin\n",
      "Saving model checkpoint to /aiffel/aiffel/0326/checkpoint-4500\n",
      "Configuration saved in /aiffel/aiffel/0326/checkpoint-4500/config.json\n",
      "Model weights saved in /aiffel/aiffel/0326/checkpoint-4500/pytorch_model.bin\n",
      "Saving model checkpoint to /aiffel/aiffel/0326/checkpoint-5000\n",
      "Configuration saved in /aiffel/aiffel/0326/checkpoint-5000/config.json\n",
      "Model weights saved in /aiffel/aiffel/0326/checkpoint-5000/pytorch_model.bin\n",
      "Saving model checkpoint to /aiffel/aiffel/0326/checkpoint-5500\n",
      "Configuration saved in /aiffel/aiffel/0326/checkpoint-5500/config.json\n",
      "Model weights saved in /aiffel/aiffel/0326/checkpoint-5500/pytorch_model.bin\n",
      "Saving model checkpoint to /aiffel/aiffel/0326/checkpoint-6000\n",
      "Configuration saved in /aiffel/aiffel/0326/checkpoint-6000/config.json\n",
      "Model weights saved in /aiffel/aiffel/0326/checkpoint-6000/pytorch_model.bin\n",
      "Saving model checkpoint to /aiffel/aiffel/0326/checkpoint-6500\n",
      "Configuration saved in /aiffel/aiffel/0326/checkpoint-6500/config.json\n",
      "Model weights saved in /aiffel/aiffel/0326/checkpoint-6500/pytorch_model.bin\n",
      "Saving model checkpoint to /aiffel/aiffel/0326/checkpoint-7000\n",
      "Configuration saved in /aiffel/aiffel/0326/checkpoint-7000/config.json\n",
      "Model weights saved in /aiffel/aiffel/0326/checkpoint-7000/pytorch_model.bin\n",
      "Saving model checkpoint to /aiffel/aiffel/0326/checkpoint-7500\n",
      "Configuration saved in /aiffel/aiffel/0326/checkpoint-7500/config.json\n",
      "Model weights saved in /aiffel/aiffel/0326/checkpoint-7500/pytorch_model.bin\n",
      "Saving model checkpoint to /aiffel/aiffel/0326/checkpoint-8000\n",
      "Configuration saved in /aiffel/aiffel/0326/checkpoint-8000/config.json\n",
      "Model weights saved in /aiffel/aiffel/0326/checkpoint-8000/pytorch_model.bin\n",
      "Saving model checkpoint to /aiffel/aiffel/0326/checkpoint-8500\n",
      "Configuration saved in /aiffel/aiffel/0326/checkpoint-8500/config.json\n",
      "Model weights saved in /aiffel/aiffel/0326/checkpoint-8500/pytorch_model.bin\n",
      "Saving model checkpoint to /aiffel/aiffel/0326/checkpoint-9000\n",
      "Configuration saved in /aiffel/aiffel/0326/checkpoint-9000/config.json\n",
      "Model weights saved in /aiffel/aiffel/0326/checkpoint-9000/pytorch_model.bin\n",
      "Saving model checkpoint to /aiffel/aiffel/0326/checkpoint-9500\n",
      "Configuration saved in /aiffel/aiffel/0326/checkpoint-9500/config.json\n",
      "Model weights saved in /aiffel/aiffel/0326/checkpoint-9500/pytorch_model.bin\n",
      "Saving model checkpoint to /aiffel/aiffel/0326/checkpoint-10000\n",
      "Configuration saved in /aiffel/aiffel/0326/checkpoint-10000/config.json\n",
      "Model weights saved in /aiffel/aiffel/0326/checkpoint-10000/pytorch_model.bin\n",
      "Saving model checkpoint to /aiffel/aiffel/0326/checkpoint-10500\n",
      "Configuration saved in /aiffel/aiffel/0326/checkpoint-10500/config.json\n",
      "Model weights saved in /aiffel/aiffel/0326/checkpoint-10500/pytorch_model.bin\n",
      "Saving model checkpoint to /aiffel/aiffel/0326/checkpoint-11000\n",
      "Configuration saved in /aiffel/aiffel/0326/checkpoint-11000/config.json\n",
      "Model weights saved in /aiffel/aiffel/0326/checkpoint-11000/pytorch_model.bin\n",
      "Saving model checkpoint to /aiffel/aiffel/0326/checkpoint-11500\n",
      "Configuration saved in /aiffel/aiffel/0326/checkpoint-11500/config.json\n",
      "Model weights saved in /aiffel/aiffel/0326/checkpoint-11500/pytorch_model.bin\n",
      "Saving model checkpoint to /aiffel/aiffel/0326/checkpoint-12000\n",
      "Configuration saved in /aiffel/aiffel/0326/checkpoint-12000/config.json\n",
      "Model weights saved in /aiffel/aiffel/0326/checkpoint-12000/pytorch_model.bin\n",
      "Saving model checkpoint to /aiffel/aiffel/0326/checkpoint-12500\n",
      "Configuration saved in /aiffel/aiffel/0326/checkpoint-12500/config.json\n",
      "Model weights saved in /aiffel/aiffel/0326/checkpoint-12500/pytorch_model.bin\n",
      "Saving model checkpoint to /aiffel/aiffel/0326/checkpoint-13000\n",
      "Configuration saved in /aiffel/aiffel/0326/checkpoint-13000/config.json\n",
      "Model weights saved in /aiffel/aiffel/0326/checkpoint-13000/pytorch_model.bin\n",
      "Saving model checkpoint to /aiffel/aiffel/0326/checkpoint-13500\n",
      "Configuration saved in /aiffel/aiffel/0326/checkpoint-13500/config.json\n",
      "Model weights saved in /aiffel/aiffel/0326/checkpoint-13500/pytorch_model.bin\n",
      "Saving model checkpoint to /aiffel/aiffel/0326/checkpoint-14000\n",
      "Configuration saved in /aiffel/aiffel/0326/checkpoint-14000/config.json\n",
      "Model weights saved in /aiffel/aiffel/0326/checkpoint-14000/pytorch_model.bin\n",
      "Saving model checkpoint to /aiffel/aiffel/0326/checkpoint-14500\n",
      "Configuration saved in /aiffel/aiffel/0326/checkpoint-14500/config.json\n",
      "Model weights saved in /aiffel/aiffel/0326/checkpoint-14500/pytorch_model.bin\n",
      "Saving model checkpoint to /aiffel/aiffel/0326/checkpoint-15000\n",
      "Configuration saved in /aiffel/aiffel/0326/checkpoint-15000/config.json\n",
      "Model weights saved in /aiffel/aiffel/0326/checkpoint-15000/pytorch_model.bin\n",
      "The following columns in the evaluation set  don't have a corresponding argument in `BertForSequenceClassification.forward` and have been ignored: document, id.\n",
      "***** Running Evaluation *****\n",
      "  Num examples = 30000\n",
      "  Batch size = 8\n",
      "Saving model checkpoint to /aiffel/aiffel/0326/checkpoint-15500\n",
      "Configuration saved in /aiffel/aiffel/0326/checkpoint-15500/config.json\n",
      "Model weights saved in /aiffel/aiffel/0326/checkpoint-15500/pytorch_model.bin\n",
      "Saving model checkpoint to /aiffel/aiffel/0326/checkpoint-16000\n",
      "Configuration saved in /aiffel/aiffel/0326/checkpoint-16000/config.json\n",
      "Model weights saved in /aiffel/aiffel/0326/checkpoint-16000/pytorch_model.bin\n",
      "Saving model checkpoint to /aiffel/aiffel/0326/checkpoint-16500\n",
      "Configuration saved in /aiffel/aiffel/0326/checkpoint-16500/config.json\n",
      "Model weights saved in /aiffel/aiffel/0326/checkpoint-16500/pytorch_model.bin\n",
      "Saving model checkpoint to /aiffel/aiffel/0326/checkpoint-17000\n",
      "Configuration saved in /aiffel/aiffel/0326/checkpoint-17000/config.json\n",
      "Model weights saved in /aiffel/aiffel/0326/checkpoint-17000/pytorch_model.bin\n",
      "Saving model checkpoint to /aiffel/aiffel/0326/checkpoint-17500\n",
      "Configuration saved in /aiffel/aiffel/0326/checkpoint-17500/config.json\n",
      "Model weights saved in /aiffel/aiffel/0326/checkpoint-17500/pytorch_model.bin\n",
      "Saving model checkpoint to /aiffel/aiffel/0326/checkpoint-18000\n",
      "Configuration saved in /aiffel/aiffel/0326/checkpoint-18000/config.json\n",
      "Model weights saved in /aiffel/aiffel/0326/checkpoint-18000/pytorch_model.bin\n",
      "Saving model checkpoint to /aiffel/aiffel/0326/checkpoint-18500\n",
      "Configuration saved in /aiffel/aiffel/0326/checkpoint-18500/config.json\n",
      "Model weights saved in /aiffel/aiffel/0326/checkpoint-18500/pytorch_model.bin\n",
      "Saving model checkpoint to /aiffel/aiffel/0326/checkpoint-19000\n",
      "Configuration saved in /aiffel/aiffel/0326/checkpoint-19000/config.json\n",
      "Model weights saved in /aiffel/aiffel/0326/checkpoint-19000/pytorch_model.bin\n",
      "Saving model checkpoint to /aiffel/aiffel/0326/checkpoint-19500\n",
      "Configuration saved in /aiffel/aiffel/0326/checkpoint-19500/config.json\n",
      "Model weights saved in /aiffel/aiffel/0326/checkpoint-19500/pytorch_model.bin\n",
      "Saving model checkpoint to /aiffel/aiffel/0326/checkpoint-20000\n",
      "Configuration saved in /aiffel/aiffel/0326/checkpoint-20000/config.json\n",
      "Model weights saved in /aiffel/aiffel/0326/checkpoint-20000/pytorch_model.bin\n",
      "Saving model checkpoint to /aiffel/aiffel/0326/checkpoint-20500\n",
      "Configuration saved in /aiffel/aiffel/0326/checkpoint-20500/config.json\n",
      "Model weights saved in /aiffel/aiffel/0326/checkpoint-20500/pytorch_model.bin\n",
      "Saving model checkpoint to /aiffel/aiffel/0326/checkpoint-21000\n",
      "Configuration saved in /aiffel/aiffel/0326/checkpoint-21000/config.json\n",
      "Model weights saved in /aiffel/aiffel/0326/checkpoint-21000/pytorch_model.bin\n",
      "Saving model checkpoint to /aiffel/aiffel/0326/checkpoint-21500\n",
      "Configuration saved in /aiffel/aiffel/0326/checkpoint-21500/config.json\n",
      "Model weights saved in /aiffel/aiffel/0326/checkpoint-21500/pytorch_model.bin\n",
      "Saving model checkpoint to /aiffel/aiffel/0326/checkpoint-22000\n",
      "Configuration saved in /aiffel/aiffel/0326/checkpoint-22000/config.json\n",
      "Model weights saved in /aiffel/aiffel/0326/checkpoint-22000/pytorch_model.bin\n",
      "Saving model checkpoint to /aiffel/aiffel/0326/checkpoint-22500\n",
      "Configuration saved in /aiffel/aiffel/0326/checkpoint-22500/config.json\n",
      "Model weights saved in /aiffel/aiffel/0326/checkpoint-22500/pytorch_model.bin\n",
      "Saving model checkpoint to /aiffel/aiffel/0326/checkpoint-23000\n",
      "Configuration saved in /aiffel/aiffel/0326/checkpoint-23000/config.json\n",
      "Model weights saved in /aiffel/aiffel/0326/checkpoint-23000/pytorch_model.bin\n",
      "Saving model checkpoint to /aiffel/aiffel/0326/checkpoint-23500\n",
      "Configuration saved in /aiffel/aiffel/0326/checkpoint-23500/config.json\n",
      "Model weights saved in /aiffel/aiffel/0326/checkpoint-23500/pytorch_model.bin\n",
      "Saving model checkpoint to /aiffel/aiffel/0326/checkpoint-24000\n",
      "Configuration saved in /aiffel/aiffel/0326/checkpoint-24000/config.json\n",
      "Model weights saved in /aiffel/aiffel/0326/checkpoint-24000/pytorch_model.bin\n",
      "Saving model checkpoint to /aiffel/aiffel/0326/checkpoint-24500\n",
      "Configuration saved in /aiffel/aiffel/0326/checkpoint-24500/config.json\n",
      "Model weights saved in /aiffel/aiffel/0326/checkpoint-24500/pytorch_model.bin\n",
      "Saving model checkpoint to /aiffel/aiffel/0326/checkpoint-25000\n",
      "Configuration saved in /aiffel/aiffel/0326/checkpoint-25000/config.json\n",
      "Model weights saved in /aiffel/aiffel/0326/checkpoint-25000/pytorch_model.bin\n",
      "Saving model checkpoint to /aiffel/aiffel/0326/checkpoint-25500\n",
      "Configuration saved in /aiffel/aiffel/0326/checkpoint-25500/config.json\n",
      "Model weights saved in /aiffel/aiffel/0326/checkpoint-25500/pytorch_model.bin\n",
      "Saving model checkpoint to /aiffel/aiffel/0326/checkpoint-26000\n",
      "Configuration saved in /aiffel/aiffel/0326/checkpoint-26000/config.json\n",
      "Model weights saved in /aiffel/aiffel/0326/checkpoint-26000/pytorch_model.bin\n",
      "Saving model checkpoint to /aiffel/aiffel/0326/checkpoint-26500\n",
      "Configuration saved in /aiffel/aiffel/0326/checkpoint-26500/config.json\n",
      "Model weights saved in /aiffel/aiffel/0326/checkpoint-26500/pytorch_model.bin\n",
      "Saving model checkpoint to /aiffel/aiffel/0326/checkpoint-27000\n",
      "Configuration saved in /aiffel/aiffel/0326/checkpoint-27000/config.json\n",
      "Model weights saved in /aiffel/aiffel/0326/checkpoint-27000/pytorch_model.bin\n",
      "Saving model checkpoint to /aiffel/aiffel/0326/checkpoint-27500\n",
      "Configuration saved in /aiffel/aiffel/0326/checkpoint-27500/config.json\n",
      "Model weights saved in /aiffel/aiffel/0326/checkpoint-27500/pytorch_model.bin\n",
      "Saving model checkpoint to /aiffel/aiffel/0326/checkpoint-28000\n",
      "Configuration saved in /aiffel/aiffel/0326/checkpoint-28000/config.json\n",
      "Model weights saved in /aiffel/aiffel/0326/checkpoint-28000/pytorch_model.bin\n",
      "Saving model checkpoint to /aiffel/aiffel/0326/checkpoint-28500\n",
      "Configuration saved in /aiffel/aiffel/0326/checkpoint-28500/config.json\n",
      "Model weights saved in /aiffel/aiffel/0326/checkpoint-28500/pytorch_model.bin\n",
      "Saving model checkpoint to /aiffel/aiffel/0326/checkpoint-29000\n",
      "Configuration saved in /aiffel/aiffel/0326/checkpoint-29000/config.json\n",
      "Model weights saved in /aiffel/aiffel/0326/checkpoint-29000/pytorch_model.bin\n",
      "Saving model checkpoint to /aiffel/aiffel/0326/checkpoint-29500\n",
      "Configuration saved in /aiffel/aiffel/0326/checkpoint-29500/config.json\n",
      "Model weights saved in /aiffel/aiffel/0326/checkpoint-29500/pytorch_model.bin\n",
      "Saving model checkpoint to /aiffel/aiffel/0326/checkpoint-30000\n",
      "Configuration saved in /aiffel/aiffel/0326/checkpoint-30000/config.json\n",
      "Model weights saved in /aiffel/aiffel/0326/checkpoint-30000/pytorch_model.bin\n",
      "The following columns in the evaluation set  don't have a corresponding argument in `BertForSequenceClassification.forward` and have been ignored: document, id.\n",
      "***** Running Evaluation *****\n",
      "  Num examples = 30000\n",
      "  Batch size = 8\n",
      "Saving model checkpoint to /aiffel/aiffel/0326/checkpoint-30500\n",
      "Configuration saved in /aiffel/aiffel/0326/checkpoint-30500/config.json\n",
      "Model weights saved in /aiffel/aiffel/0326/checkpoint-30500/pytorch_model.bin\n",
      "Saving model checkpoint to /aiffel/aiffel/0326/checkpoint-31000\n",
      "Configuration saved in /aiffel/aiffel/0326/checkpoint-31000/config.json\n",
      "Model weights saved in /aiffel/aiffel/0326/checkpoint-31000/pytorch_model.bin\n",
      "Saving model checkpoint to /aiffel/aiffel/0326/checkpoint-31500\n",
      "Configuration saved in /aiffel/aiffel/0326/checkpoint-31500/config.json\n",
      "Model weights saved in /aiffel/aiffel/0326/checkpoint-31500/pytorch_model.bin\n",
      "Saving model checkpoint to /aiffel/aiffel/0326/checkpoint-32000\n",
      "Configuration saved in /aiffel/aiffel/0326/checkpoint-32000/config.json\n",
      "Model weights saved in /aiffel/aiffel/0326/checkpoint-32000/pytorch_model.bin\n",
      "Saving model checkpoint to /aiffel/aiffel/0326/checkpoint-32500\n",
      "Configuration saved in /aiffel/aiffel/0326/checkpoint-32500/config.json\n",
      "Model weights saved in /aiffel/aiffel/0326/checkpoint-32500/pytorch_model.bin\n",
      "Saving model checkpoint to /aiffel/aiffel/0326/checkpoint-33000\n",
      "Configuration saved in /aiffel/aiffel/0326/checkpoint-33000/config.json\n",
      "Model weights saved in /aiffel/aiffel/0326/checkpoint-33000/pytorch_model.bin\n",
      "Saving model checkpoint to /aiffel/aiffel/0326/checkpoint-33500\n",
      "Configuration saved in /aiffel/aiffel/0326/checkpoint-33500/config.json\n",
      "Model weights saved in /aiffel/aiffel/0326/checkpoint-33500/pytorch_model.bin\n",
      "Saving model checkpoint to /aiffel/aiffel/0326/checkpoint-34000\n",
      "Configuration saved in /aiffel/aiffel/0326/checkpoint-34000/config.json\n",
      "Model weights saved in /aiffel/aiffel/0326/checkpoint-34000/pytorch_model.bin\n",
      "Saving model checkpoint to /aiffel/aiffel/0326/checkpoint-34500\n",
      "Configuration saved in /aiffel/aiffel/0326/checkpoint-34500/config.json\n",
      "Model weights saved in /aiffel/aiffel/0326/checkpoint-34500/pytorch_model.bin\n",
      "Saving model checkpoint to /aiffel/aiffel/0326/checkpoint-35000\n",
      "Configuration saved in /aiffel/aiffel/0326/checkpoint-35000/config.json\n",
      "Model weights saved in /aiffel/aiffel/0326/checkpoint-35000/pytorch_model.bin\n",
      "Saving model checkpoint to /aiffel/aiffel/0326/checkpoint-35500\n",
      "Configuration saved in /aiffel/aiffel/0326/checkpoint-35500/config.json\n",
      "Model weights saved in /aiffel/aiffel/0326/checkpoint-35500/pytorch_model.bin\n",
      "Saving model checkpoint to /aiffel/aiffel/0326/checkpoint-36000\n",
      "Configuration saved in /aiffel/aiffel/0326/checkpoint-36000/config.json\n",
      "Model weights saved in /aiffel/aiffel/0326/checkpoint-36000/pytorch_model.bin\n",
      "Saving model checkpoint to /aiffel/aiffel/0326/checkpoint-36500\n",
      "Configuration saved in /aiffel/aiffel/0326/checkpoint-36500/config.json\n",
      "Model weights saved in /aiffel/aiffel/0326/checkpoint-36500/pytorch_model.bin\n",
      "Saving model checkpoint to /aiffel/aiffel/0326/checkpoint-37000\n",
      "Configuration saved in /aiffel/aiffel/0326/checkpoint-37000/config.json\n",
      "Model weights saved in /aiffel/aiffel/0326/checkpoint-37000/pytorch_model.bin\n",
      "Saving model checkpoint to /aiffel/aiffel/0326/checkpoint-37500\n",
      "Configuration saved in /aiffel/aiffel/0326/checkpoint-37500/config.json\n",
      "Model weights saved in /aiffel/aiffel/0326/checkpoint-37500/pytorch_model.bin\n",
      "Saving model checkpoint to /aiffel/aiffel/0326/checkpoint-38000\n",
      "Configuration saved in /aiffel/aiffel/0326/checkpoint-38000/config.json\n",
      "Model weights saved in /aiffel/aiffel/0326/checkpoint-38000/pytorch_model.bin\n",
      "Saving model checkpoint to /aiffel/aiffel/0326/checkpoint-38500\n",
      "Configuration saved in /aiffel/aiffel/0326/checkpoint-38500/config.json\n",
      "Model weights saved in /aiffel/aiffel/0326/checkpoint-38500/pytorch_model.bin\n",
      "Saving model checkpoint to /aiffel/aiffel/0326/checkpoint-39000\n",
      "Configuration saved in /aiffel/aiffel/0326/checkpoint-39000/config.json\n",
      "Model weights saved in /aiffel/aiffel/0326/checkpoint-39000/pytorch_model.bin\n",
      "Saving model checkpoint to /aiffel/aiffel/0326/checkpoint-39500\n",
      "Configuration saved in /aiffel/aiffel/0326/checkpoint-39500/config.json\n",
      "Model weights saved in /aiffel/aiffel/0326/checkpoint-39500/pytorch_model.bin\n",
      "Saving model checkpoint to /aiffel/aiffel/0326/checkpoint-40000\n",
      "Configuration saved in /aiffel/aiffel/0326/checkpoint-40000/config.json\n",
      "Model weights saved in /aiffel/aiffel/0326/checkpoint-40000/pytorch_model.bin\n",
      "Saving model checkpoint to /aiffel/aiffel/0326/checkpoint-40500\n",
      "Configuration saved in /aiffel/aiffel/0326/checkpoint-40500/config.json\n",
      "Model weights saved in /aiffel/aiffel/0326/checkpoint-40500/pytorch_model.bin\n",
      "Saving model checkpoint to /aiffel/aiffel/0326/checkpoint-41000\n",
      "Configuration saved in /aiffel/aiffel/0326/checkpoint-41000/config.json\n",
      "Model weights saved in /aiffel/aiffel/0326/checkpoint-41000/pytorch_model.bin\n",
      "Saving model checkpoint to /aiffel/aiffel/0326/checkpoint-41500\n",
      "Configuration saved in /aiffel/aiffel/0326/checkpoint-41500/config.json\n",
      "Model weights saved in /aiffel/aiffel/0326/checkpoint-41500/pytorch_model.bin\n",
      "Saving model checkpoint to /aiffel/aiffel/0326/checkpoint-42000\n",
      "Configuration saved in /aiffel/aiffel/0326/checkpoint-42000/config.json\n",
      "Model weights saved in /aiffel/aiffel/0326/checkpoint-42000/pytorch_model.bin\n",
      "Saving model checkpoint to /aiffel/aiffel/0326/checkpoint-42500\n",
      "Configuration saved in /aiffel/aiffel/0326/checkpoint-42500/config.json\n",
      "Model weights saved in /aiffel/aiffel/0326/checkpoint-42500/pytorch_model.bin\n",
      "Saving model checkpoint to /aiffel/aiffel/0326/checkpoint-43000\n",
      "Configuration saved in /aiffel/aiffel/0326/checkpoint-43000/config.json\n",
      "Model weights saved in /aiffel/aiffel/0326/checkpoint-43000/pytorch_model.bin\n",
      "Saving model checkpoint to /aiffel/aiffel/0326/checkpoint-43500\n",
      "Configuration saved in /aiffel/aiffel/0326/checkpoint-43500/config.json\n",
      "Model weights saved in /aiffel/aiffel/0326/checkpoint-43500/pytorch_model.bin\n",
      "Saving model checkpoint to /aiffel/aiffel/0326/checkpoint-44000\n",
      "Configuration saved in /aiffel/aiffel/0326/checkpoint-44000/config.json\n",
      "Model weights saved in /aiffel/aiffel/0326/checkpoint-44000/pytorch_model.bin\n",
      "Saving model checkpoint to /aiffel/aiffel/0326/checkpoint-44500\n",
      "Configuration saved in /aiffel/aiffel/0326/checkpoint-44500/config.json\n",
      "Model weights saved in /aiffel/aiffel/0326/checkpoint-44500/pytorch_model.bin\n",
      "Saving model checkpoint to /aiffel/aiffel/0326/checkpoint-45000\n",
      "Configuration saved in /aiffel/aiffel/0326/checkpoint-45000/config.json\n",
      "Model weights saved in /aiffel/aiffel/0326/checkpoint-45000/pytorch_model.bin\n",
      "The following columns in the evaluation set  don't have a corresponding argument in `BertForSequenceClassification.forward` and have been ignored: document, id.\n",
      "***** Running Evaluation *****\n",
      "  Num examples = 30000\n",
      "  Batch size = 8\n",
      "\n",
      "\n",
      "Training completed. Do not forget to share your model on huggingface.co/models =)\n",
      "\n",
      "\n"
     ]
    },
    {
     "data": {
      "text/plain": [
       "TrainOutput(global_step=45000, training_loss=0.24618472112019857, metrics={'train_runtime': 6100.9631, 'train_samples_per_second': 59.007, 'train_steps_per_second': 7.376, 'total_flos': 7399998432000000.0, 'train_loss': 0.24618472112019857, 'epoch': 3.0})"
      ]
     },
     "execution_count": 16,
     "metadata": {},
     "output_type": "execute_result"
    }
   ],
   "source": [
    "from transformers import DataCollatorWithPadding\n",
    "data_collator = DataCollatorWithPadding(tokenizer=tokenizer)\n",
    "training_arguments = TrainingArguments(\n",
    "    output_dir,                                         # output이 저장될 경로\n",
    "    evaluation_strategy=\"epoch\",           #evaluation하는 빈도\n",
    "    learning_rate = 2e-5,                         #learning_rate\n",
    "    group_by_length = True,\n",
    "    per_device_train_batch_size = 8,   # 각 device 당 batch size\n",
    "    per_device_eval_batch_size = 8,    # evaluation 시에 batch size\n",
    "    num_train_epochs = 3,                     # train 시킬 총 epochs\n",
    "    weight_decay = 0.01,\n",
    "    lr_scheduler_type=\"cosine\"# weight decay\n",
    ")\n",
    "\n",
    "trainer = Trainer(\n",
    "    model= model,           # 학습시킬 model\n",
    "    args=training_arguments,           # TrainingArguments을 통해 설정한 arguments\n",
    "    data_collator = data_collator,\n",
    "    train_dataset=train,    # training dataset\n",
    "    eval_dataset=val,       # evaluation dataset\n",
    "    compute_metrics=compute_metrics,\n",
    ")\n",
    "trainer.train()"
   ]
  },
  {
   "cell_type": "code",
   "execution_count": 17,
   "id": "d84de48f",
   "metadata": {},
   "outputs": [
    {
     "name": "stderr",
     "output_type": "stream",
     "text": [
      "The following columns in the evaluation set  don't have a corresponding argument in `BertForSequenceClassification.forward` and have been ignored: document, id.\n",
      "***** Running Evaluation *****\n",
      "  Num examples = 50000\n",
      "  Batch size = 8\n"
     ]
    },
    {
     "data": {
      "text/html": [
       "\n",
       "    <div>\n",
       "      \n",
       "      <progress value='6250' max='6250' style='width:300px; height:20px; vertical-align: middle;'></progress>\n",
       "      [6250/6250 02:07]\n",
       "    </div>\n",
       "    "
      ],
      "text/plain": [
       "<IPython.core.display.HTML object>"
      ]
     },
     "metadata": {},
     "output_type": "display_data"
    },
    {
     "data": {
      "text/plain": [
       "{'eval_loss': 0.4826755225658417,\n",
       " 'eval_accuracy': 0.89848,\n",
       " 'eval_runtime': 127.2831,\n",
       " 'eval_samples_per_second': 392.825,\n",
       " 'eval_steps_per_second': 49.103,\n",
       " 'epoch': 3.0}"
      ]
     },
     "execution_count": 17,
     "metadata": {},
     "output_type": "execute_result"
    }
   ],
   "source": [
    "trainer.evaluate(test)"
   ]
  },
  {
   "cell_type": "markdown",
   "id": "f5768ca6",
   "metadata": {},
   "source": [
    "## Bucketing 유무의 비교\n",
    "\n",
    "Bucketing이란 시퀀스의 길이별로 정렬하고 버킷에 그룹화를 진행한다. 각 버킷 내의 시퀀스는 유사한 길이를 가지고 더 효율적인 배치와 최소화된 패딩을 가진다. HuggingFace의 DatacollatorWithPadding을 통해 진행한다.\n",
    "\n",
    "동적 패딩이란 각 배치 내의 가장 긴 시퀀스의 길이에 맞게 시퀀스를 패딩하는 것이다. 이로 모델은 각 배치에 필요한 만큼의 패딩만 처리되어, 모델의 효율성을 증가 시킬수 있다.\n",
    "\n",
    "- Without Bucketing :\n",
    "    - 'train_runtime': 561.0603,\n",
    "    - 'train_samples_per_second': 8.021,\n",
    "    - 'train_steps_per_second': 1.005,\n",
    "    - 'eval_accuracy': 0.8532,\n",
    "    - 'eval_runtime': 164.3683,\n",
    "    - 'eval_samples_per_second': 30.419,\n",
    "    - 'eval_steps_per_second': 3.802,\n",
    "- With Bucketing :\n",
    "    - 'train_runtime': 575.8021,\n",
    "    - 'train_samples_per_second': 7.815,\n",
    "    - 'train_steps_per_second': 0.98,\n",
    "    - 'eval_accuracy': 0.8528,\n",
    "    - 'eval_runtime': 164.2709,\n",
    "    - 'eval_samples_per_second': 30.438,\n",
    "    - 'eval_steps_per_second': 3.805,\n",
    "    \n",
    "- Without Bucketing :\n",
    "    - 'train_runtime': 4957.6095,\n",
    "    - 'train_samples_per_second': 72.616,\n",
    "    - 'train_steps_per_second': 9.077,\n",
    "    - eval_accuracy': 0.90042,\n",
    "    - 'eval_runtime': 127.5258,\n",
    "    - 'eval_samples_per_second': 392.077,\n",
    "- With Bucketing :\n",
    "    - 'train_runtime': 6100.9631,\n",
    "    - 'train_samples_per_second': 59.007, \n",
    "    - 'train_steps_per_second': 7.376,\n",
    "    - 'eval_accuracy': 0.89848,\n",
    "    - 'eval_runtime': 127.2831,\n",
    "    - 'eval_samples_per_second': 392.825,\n",
    "    - 'eval_steps_per_second': 49.103,"
   ]
  },
  {
   "cell_type": "code",
   "execution_count": null,
   "id": "d76fbb5b",
   "metadata": {},
   "outputs": [],
   "source": []
  }
 ],
 "metadata": {
  "kernelspec": {
   "display_name": "Python 3 (ipykernel)",
   "language": "python",
   "name": "python3"
  },
  "language_info": {
   "codemirror_mode": {
    "name": "ipython",
    "version": 3
   },
   "file_extension": ".py",
   "mimetype": "text/x-python",
   "name": "python",
   "nbconvert_exporter": "python",
   "pygments_lexer": "ipython3",
   "version": "3.9.7"
  }
 },
 "nbformat": 4,
 "nbformat_minor": 5
}
